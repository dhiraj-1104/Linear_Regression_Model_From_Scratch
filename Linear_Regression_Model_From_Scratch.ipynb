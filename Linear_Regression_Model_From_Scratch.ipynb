{
 "cells": [
  {
   "cell_type": "markdown",
   "id": "a087bc3f-8777-4fcb-8485-7dddadd9d9b4",
   "metadata": {},
   "source": [
    "**Linear Regression:**\n",
    "\n",
    "Y = wX + b\n",
    "\n",
    "Y --> Dependent Variable\n",
    "\n",
    "X --> Independent Variable\n",
    "\n",
    "w --> weight\n",
    "\n",
    "b --> bias"
   ]
  },
  {
   "cell_type": "markdown",
   "id": "fe6f61c3-ae73-4011-a357-afb3378ebde9",
   "metadata": {},
   "source": [
    "**Gradient Descent:**\n",
    "\n",
    "Gradient Descent is an optimization algorithm used for minimizing the loss function in various machine learning algorithms. It is used for updating the parameters of the learning model.\n",
    "\n",
    "w = w - α*dw\n",
    "\n",
    "b = b - α*db"
   ]
  },
  {
   "cell_type": "markdown",
   "id": "f5766e91-6826-4ed7-839b-0e7222ad3f3d",
   "metadata": {},
   "source": [
    "**Learning Rate:**\n",
    "\n",
    "Learning rate is a tuning parameter in an optimization algorithm that determines the step size at each iteration while moving toward a minimum of a loss function.\n",
    "\n"
   ]
  },
  {
   "cell_type": "code",
   "execution_count": 41,
   "id": "1ec75848-c2bf-434b-9ebd-4642160a93f4",
   "metadata": {},
   "outputs": [],
   "source": [
    "# importing the numpy libray\n",
    "import numpy as np"
   ]
  },
  {
   "cell_type": "code",
   "execution_count": 2,
   "id": "469e70a7-f36a-4614-b2f9-e7b759bf4038",
   "metadata": {},
   "outputs": [],
   "source": [
    "# Linear Regression Model Code From Scratch\n",
    "class LinerRegression:\n",
    "    # Initaiting the parameters (Learning rate & no. of iterations)\n",
    "    def __init__(self, learning_rate,no_of_iterations):\n",
    "        self.learning_rate = learning_rate\n",
    "        self.no_of_iterations = no_of_iterations\n",
    "\n",
    "    # Function to Fit the data to the model\n",
    "    def fit(self,X,Y):\n",
    "        # number of trainng examples & number of features\n",
    "        self.m,self.n = X.shape # it the number of rows & columns m=>rows,n=>columns\n",
    "\n",
    "        # initiating the wights and bias \n",
    "        self.w = np.zeros(self.n)\n",
    "        self.b = 0\n",
    "        self.X = X\n",
    "        self.Y = Y\n",
    "\n",
    "        # implementing the gradient descent algorithm\n",
    "        for i in range(self.no_of_iterations):\n",
    "            self.update_wights()\n",
    "    \n",
    "\n",
    "    def update_wights(self,):\n",
    "        Y_prediction = self.predict(self.X)\n",
    "        \n",
    "        # calculate gradients\n",
    "        dw = -(2*(self.X.T).dot(self.Y - Y_prediction)) / self.m\n",
    "        db = -2 * np.sum(self.Y - Y_prediction)/self.m\n",
    "\n",
    "        # updating the weights\n",
    "        self.w = self.w - self.learning_rate*dw\n",
    "        self.b = self.b - self.learning_rate * db\n",
    "        \n",
    "    # function for the prediction  \n",
    "    def predict(self,X):\n",
    "        return X.dot(self.w) + self.b"
   ]
  },
  {
   "cell_type": "markdown",
   "id": "9fcd8d8d-b466-46df-9e62-b935fe72bd16",
   "metadata": {},
   "source": [
    "**Using the linear regression model**"
   ]
  },
  {
   "cell_type": "code",
   "execution_count": 43,
   "id": "6bb8d4d7-7605-4e98-bfc0-66936fe0992c",
   "metadata": {},
   "outputs": [],
   "source": [
    "# importing libraries\n",
    "import pandas as pd\n",
    "from sklearn.model_selection import train_test_split\n",
    "import matplotlib.pyplot as plt"
   ]
  },
  {
   "cell_type": "markdown",
   "id": "17c54aec-f811-4f89-b958-3b60716a7f95",
   "metadata": {},
   "source": [
    "**Data Pre-processing**"
   ]
  },
  {
   "cell_type": "code",
   "execution_count": 44,
   "id": "82572549-a0db-4d31-a0d6-3bae1b793ca1",
   "metadata": {},
   "outputs": [],
   "source": [
    "# loading the data from csv to pandas dataframe\n",
    "df = pd.read_csv(\"D:\\AI Engineer\\Model from Scratch\\Data\\salary_data.csv\")"
   ]
  },
  {
   "cell_type": "code",
   "execution_count": 45,
   "id": "59e11fbf-504a-4945-ae08-ae7c8b34e351",
   "metadata": {},
   "outputs": [
    {
     "data": {
      "text/html": [
       "<div>\n",
       "<style scoped>\n",
       "    .dataframe tbody tr th:only-of-type {\n",
       "        vertical-align: middle;\n",
       "    }\n",
       "\n",
       "    .dataframe tbody tr th {\n",
       "        vertical-align: top;\n",
       "    }\n",
       "\n",
       "    .dataframe thead th {\n",
       "        text-align: right;\n",
       "    }\n",
       "</style>\n",
       "<table border=\"1\" class=\"dataframe\">\n",
       "  <thead>\n",
       "    <tr style=\"text-align: right;\">\n",
       "      <th></th>\n",
       "      <th>YearsExperience</th>\n",
       "      <th>Salary</th>\n",
       "    </tr>\n",
       "  </thead>\n",
       "  <tbody>\n",
       "    <tr>\n",
       "      <th>0</th>\n",
       "      <td>1.1</td>\n",
       "      <td>39343</td>\n",
       "    </tr>\n",
       "    <tr>\n",
       "      <th>1</th>\n",
       "      <td>1.3</td>\n",
       "      <td>46205</td>\n",
       "    </tr>\n",
       "    <tr>\n",
       "      <th>2</th>\n",
       "      <td>1.5</td>\n",
       "      <td>37731</td>\n",
       "    </tr>\n",
       "    <tr>\n",
       "      <th>3</th>\n",
       "      <td>2.0</td>\n",
       "      <td>43525</td>\n",
       "    </tr>\n",
       "    <tr>\n",
       "      <th>4</th>\n",
       "      <td>2.2</td>\n",
       "      <td>39891</td>\n",
       "    </tr>\n",
       "  </tbody>\n",
       "</table>\n",
       "</div>"
      ],
      "text/plain": [
       "   YearsExperience  Salary\n",
       "0              1.1   39343\n",
       "1              1.3   46205\n",
       "2              1.5   37731\n",
       "3              2.0   43525\n",
       "4              2.2   39891"
      ]
     },
     "execution_count": 45,
     "metadata": {},
     "output_type": "execute_result"
    }
   ],
   "source": [
    "# printing the first five columns of data\n",
    "df.head()"
   ]
  },
  {
   "cell_type": "code",
   "execution_count": 46,
   "id": "3a148b3a-cd8c-4be3-902d-98e0c4662e3b",
   "metadata": {},
   "outputs": [
    {
     "data": {
      "text/html": [
       "<div>\n",
       "<style scoped>\n",
       "    .dataframe tbody tr th:only-of-type {\n",
       "        vertical-align: middle;\n",
       "    }\n",
       "\n",
       "    .dataframe tbody tr th {\n",
       "        vertical-align: top;\n",
       "    }\n",
       "\n",
       "    .dataframe thead th {\n",
       "        text-align: right;\n",
       "    }\n",
       "</style>\n",
       "<table border=\"1\" class=\"dataframe\">\n",
       "  <thead>\n",
       "    <tr style=\"text-align: right;\">\n",
       "      <th></th>\n",
       "      <th>YearsExperience</th>\n",
       "      <th>Salary</th>\n",
       "    </tr>\n",
       "  </thead>\n",
       "  <tbody>\n",
       "    <tr>\n",
       "      <th>25</th>\n",
       "      <td>9.0</td>\n",
       "      <td>105582</td>\n",
       "    </tr>\n",
       "    <tr>\n",
       "      <th>26</th>\n",
       "      <td>9.5</td>\n",
       "      <td>116969</td>\n",
       "    </tr>\n",
       "    <tr>\n",
       "      <th>27</th>\n",
       "      <td>9.6</td>\n",
       "      <td>112635</td>\n",
       "    </tr>\n",
       "    <tr>\n",
       "      <th>28</th>\n",
       "      <td>10.3</td>\n",
       "      <td>122391</td>\n",
       "    </tr>\n",
       "    <tr>\n",
       "      <th>29</th>\n",
       "      <td>10.5</td>\n",
       "      <td>121872</td>\n",
       "    </tr>\n",
       "  </tbody>\n",
       "</table>\n",
       "</div>"
      ],
      "text/plain": [
       "    YearsExperience  Salary\n",
       "25              9.0  105582\n",
       "26              9.5  116969\n",
       "27              9.6  112635\n",
       "28             10.3  122391\n",
       "29             10.5  121872"
      ]
     },
     "execution_count": 46,
     "metadata": {},
     "output_type": "execute_result"
    }
   ],
   "source": [
    "# printing the last five columns of data\n",
    "df.tail()"
   ]
  },
  {
   "cell_type": "code",
   "execution_count": 47,
   "id": "11b89e42-8d9f-4f48-8c21-55ef89a620cc",
   "metadata": {},
   "outputs": [
    {
     "data": {
      "text/plain": [
       "(30, 2)"
      ]
     },
     "execution_count": 47,
     "metadata": {},
     "output_type": "execute_result"
    }
   ],
   "source": [
    "# numbers of rows and columns in the dataframe\n",
    "df.shape"
   ]
  },
  {
   "cell_type": "code",
   "execution_count": 48,
   "id": "bf73962f-90ea-4b3f-b8c5-72781c770409",
   "metadata": {},
   "outputs": [
    {
     "data": {
      "text/plain": [
       "YearsExperience    0\n",
       "Salary             0\n",
       "dtype: int64"
      ]
     },
     "execution_count": 48,
     "metadata": {},
     "output_type": "execute_result"
    }
   ],
   "source": [
    "# checking the missing values\n",
    "df.isnull().sum()"
   ]
  },
  {
   "cell_type": "code",
   "execution_count": 49,
   "id": "198926ea-6002-466b-9319-df52f1d5b147",
   "metadata": {},
   "outputs": [],
   "source": [
    "# Spliting the feature and target\n",
    "X = df.iloc[:,:-1].values\n",
    "Y = df.iloc[:,1].values"
   ]
  },
  {
   "cell_type": "code",
   "execution_count": 50,
   "id": "851af34b-9b07-4189-82d7-8a024e27fce4",
   "metadata": {},
   "outputs": [
    {
     "name": "stdout",
     "output_type": "stream",
     "text": [
      "[[ 1.1]\n",
      " [ 1.3]\n",
      " [ 1.5]\n",
      " [ 2. ]\n",
      " [ 2.2]\n",
      " [ 2.9]\n",
      " [ 3. ]\n",
      " [ 3.2]\n",
      " [ 3.2]\n",
      " [ 3.7]\n",
      " [ 3.9]\n",
      " [ 4. ]\n",
      " [ 4. ]\n",
      " [ 4.1]\n",
      " [ 4.5]\n",
      " [ 4.9]\n",
      " [ 5.1]\n",
      " [ 5.3]\n",
      " [ 5.9]\n",
      " [ 6. ]\n",
      " [ 6.8]\n",
      " [ 7.1]\n",
      " [ 7.9]\n",
      " [ 8.2]\n",
      " [ 8.7]\n",
      " [ 9. ]\n",
      " [ 9.5]\n",
      " [ 9.6]\n",
      " [10.3]\n",
      " [10.5]]\n"
     ]
    }
   ],
   "source": [
    "print(X)"
   ]
  },
  {
   "cell_type": "code",
   "execution_count": 51,
   "id": "cc66cb09-41fe-41da-b45b-e6b247cf4937",
   "metadata": {},
   "outputs": [
    {
     "name": "stdout",
     "output_type": "stream",
     "text": [
      "[ 39343  46205  37731  43525  39891  56642  60150  54445  64445  57189\n",
      "  63218  55794  56957  57081  61111  67938  66029  83088  81363  93940\n",
      "  91738  98273 101302 113812 109431 105582 116969 112635 122391 121872]\n"
     ]
    }
   ],
   "source": [
    "print(Y)"
   ]
  },
  {
   "cell_type": "code",
   "execution_count": 52,
   "id": "7e24a952-1d91-49cb-98ac-0b67c79ceae1",
   "metadata": {},
   "outputs": [],
   "source": [
    "# Spliting the dataset into training and testing data\n",
    "X_train,X_test,Y_train,Y_test = train_test_split(X,Y,test_size = 0.33,random_state = 2)"
   ]
  },
  {
   "cell_type": "code",
   "execution_count": 53,
   "id": "b412af9b-deb0-443c-bb97-7f508098cfe8",
   "metadata": {},
   "outputs": [],
   "source": [
    "# Trainig the Linear Regression Model\n",
    "model = LinerRegression(learning_rate = 0.02,no_of_iterations=1000)"
   ]
  },
  {
   "cell_type": "code",
   "execution_count": 54,
   "id": "ebd7f4cf-0f62-4ea1-b2b0-8d234c442744",
   "metadata": {},
   "outputs": [],
   "source": [
    "model.fit(X_train,Y_train)"
   ]
  },
  {
   "cell_type": "code",
   "execution_count": 56,
   "id": "df5ac5ba-bab7-41d8-bc1b-2f81631759c1",
   "metadata": {},
   "outputs": [
    {
     "name": "stdout",
     "output_type": "stream",
     "text": [
      "weight =  9514.400999035135\n",
      "bias =  23697.406507136307\n"
     ]
    }
   ],
   "source": [
    "# printing the parameter values (weights and bias)\n",
    "print('weight = ',model.w[0])\n",
    "print('bias = ',model.b)\n"
   ]
  },
  {
   "cell_type": "code",
   "execution_count": 57,
   "id": "97e81996-2a91-4807-bbcf-250424a3e25d",
   "metadata": {},
   "outputs": [],
   "source": [
    "# Predicting the salary value for the test data\n",
    "test_data_prediction = model.predict(X_test)"
   ]
  },
  {
   "cell_type": "code",
   "execution_count": 58,
   "id": "027b1a64-fab8-4ca2-8651-e5d15001d3cf",
   "metadata": {},
   "outputs": [
    {
     "name": "stdout",
     "output_type": "stream",
     "text": [
      "[ 36066.12780588  34163.24760607  66512.21100279  58900.69020357\n",
      "  91249.65360029  80783.81250135 101715.49469922  52240.60950424\n",
      "  42726.20850521  88395.33330058]\n"
     ]
    }
   ],
   "source": [
    "print(test_data_prediction)"
   ]
  },
  {
   "cell_type": "code",
   "execution_count": 62,
   "id": "3295219a-ba47-4ff9-b09b-8d16803ac111",
   "metadata": {},
   "outputs": [
    {
     "data": {
      "image/png": "[encoded data removed]",
      "text/plain": [
       "<Figure size 640x480 with 1 Axes>"
      ]
     },
     "metadata": {},
     "output_type": "display_data"
    }
   ],
   "source": [
    "# Visualizing the predicted values & actual values\n",
    "plt.scatter(X_test,Y_test,color = 'red')\n",
    "plt.plot(X_test,test_data_prediction,color='blue')\n",
    "plt.xlabel(\"Work Experience\")\n",
    "plt.ylabel(\"Salary\")\n",
    "plt.title(\"Salary vs Experience\")\n",
    "plt.show()"
   ]
  }
 ],
 "metadata": {
  "kernelspec": {
   "display_name": "Python 3 (ipykernel)",
   "language": "python",
   "name": "python3"
  },
  "language_info": {
   "codemirror_mode": {
    "name": "ipython",
    "version": 3
   },
   "file_extension": ".py",
   "mimetype": "text/x-python",
   "name": "python",
   "nbconvert_exporter": "python",
   "pygments_lexer": "ipython3",
   "version": "3.11.8"
  }
 },
 "nbformat": 4,
 "nbformat_minor": 5
}
